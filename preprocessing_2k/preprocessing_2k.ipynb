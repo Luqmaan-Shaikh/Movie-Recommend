{
 "cells": [
  {
   "cell_type": "code",
   "execution_count": null,
   "metadata": {},
   "outputs": [],
   "source": [
    "import pandas as pd"
   ]
  },
  {
   "cell_type": "code",
   "execution_count": null,
   "metadata": {},
   "outputs": [],
   "source": [
    "# loading the scraped data\n",
    "# and checking it out\n",
    "\n",
    "df = pd.read_csv('../scraping/---.csv')\n",
    "df"
   ]
  },
  {
   "cell_type": "code",
   "execution_count": null,
   "metadata": {},
   "outputs": [],
   "source": [
    "df.info()"
   ]
  },
  {
   "cell_type": "code",
   "execution_count": null,
   "metadata": {},
   "outputs": [],
   "source": [
    "# removing '\\r\\n' from movie name\n",
    "df['Movie Name'] = df['Movie Name'].str.replace('\\r\\n', ' ')\n",
    "df"
   ]
  },
  {
   "cell_type": "code",
   "execution_count": null,
   "metadata": {},
   "outputs": [],
   "source": [
    "# dropping the movie that has any hindi letter\n",
    "\n",
    "def is_english(string):\n",
    "    # for each character in string\n",
    "    # check if it can exist in ascii (0 to 255)\n",
    "    # we confirmed that hindi letters are way beyond 255\n",
    "    for c in string:\n",
    "        if ord(c) > 255:\n",
    "            return False\n",
    "    return True\n",
    "\n",
    "\n",
    "# this mask has True for english movies and False for hindi movies\n",
    "english_mask = df['Movie Name'].apply(is_english)\n",
    "\n",
    "print(\"Before applying mask\", df.shape)\n",
    "df = df[english_mask]\n",
    "print(\"After applying mask\", df.shape)\n",
    "\n",
    "df"
   ]
  },
  {
   "cell_type": "code",
   "execution_count": null,
   "metadata": {},
   "outputs": [],
   "source": [
    "# we just droppepd some rows\n",
    "# reset the index, so its easier to work with\n",
    "df = df.reset_index(drop=True)"
   ]
  },
  {
   "cell_type": "code",
   "execution_count": null,
   "metadata": {},
   "outputs": [],
   "source": [
    "# converting time to minutes\n",
    "\n",
    "def convert(time_str):\n",
    "    # time_str could be '1h 10m' or '20m' or '1h'\n",
    "    time_str = time_str.replace(' ', '')\n",
    "    time_str = time_str.replace('m', '')\n",
    "    # now time_str could be '1h10' or '20' or '1h'\n",
    "\n",
    "    time_split = time_str.split('h')\n",
    "    hours = 0\n",
    "    minutes = 0\n",
    "\n",
    "    if 'h' in time_str:\n",
    "        # if 'h' is in time_str\n",
    "        # time_split[0] will be hours\n",
    "        # time_split[1] will be minutes\n",
    "        # but time_split[1] could be empty\n",
    "        hours = int(time_split[0])\n",
    "        if time_split[1] != '':\n",
    "            minutes = int(time_split[1])\n",
    "    else:\n",
    "        # if 'h' is not in time_str\n",
    "        # time_split[0] will be minutes\n",
    "        minutes = int(time_split[0])\n",
    "    \n",
    "    return hours * 60 + minutes\n",
    "\n",
    "\n",
    "df['Time'] = df['Time'].apply(convert)\n",
    "df"
   ]
  },
  {
   "cell_type": "code",
   "execution_count": null,
   "metadata": {},
   "outputs": [],
   "source": [
    "# getting unique genres\n",
    "\n",
    "unique_genres = []\n",
    "\n",
    "for genres in df['Genres']:\n",
    "    # genres is of form 'Action,Drama,Romance'\n",
    "    genres = genres.split(',')\n",
    "    # genres is now ['Action', 'Drama', 'Romance']\n",
    "    for g in genres:\n",
    "        # g is 'Action' or '\\xa0Action'\n",
    "        g = g.replace('\\xa0', '')\n",
    "        # g is now 'Action'\n",
    "        # it is unique if it is not in the list\n",
    "        if g not in unique_genres:\n",
    "            unique_genres.append(g)\n",
    "\n",
    "unique_genres"
   ]
  },
  {
   "cell_type": "code",
   "execution_count": null,
   "metadata": {},
   "outputs": [],
   "source": [
    "genres_df = df['Genres'].to_frame()\n",
    "\n",
    "for genre in unique_genres:\n",
    "    genres_df.insert(0, genre, 0)\n",
    "\n",
    "genres_df"
   ]
  },
  {
   "cell_type": "code",
   "execution_count": null,
   "metadata": {},
   "outputs": [],
   "source": [
    "# filling the genres df with proper values\n",
    "# then dropping the old column\n",
    "\n",
    "for idx in range(len(genres_df)):\n",
    "    genres = genres_df['Genres'].iloc[idx]\n",
    "    # genres is of form \"Action,Drama,Romance\"\n",
    "    genres = genres.split(\",\")\n",
    "\n",
    "    for genre in genres:\n",
    "        genre = genre.strip()\n",
    "        genres_df.at[idx, genre] = 1\n",
    "\n",
    "genres_df = genres_df.drop(columns=['Genres'])\n",
    "genres_df"
   ]
  },
  {
   "cell_type": "code",
   "execution_count": null,
   "metadata": {},
   "outputs": [],
   "source": [
    "# merging the one hot encoded genres with the original dataframe\n",
    "\n",
    "df = pd.concat([df, genres_df], axis=1)\n",
    "df = df.drop(columns=['Genres'])\n",
    "df"
   ]
  },
  {
   "cell_type": "code",
   "execution_count": null,
   "metadata": {},
   "outputs": [],
   "source": [
    "print('df shape:', df.shape)\n",
    "print('df columns:', df.columns)\n",
    "\n",
    "df.to_csv(\"cleaned-movies-2k.csv\", index=False)"
   ]
  },
  {
   "cell_type": "code",
   "execution_count": null,
   "metadata": {},
   "outputs": [],
   "source": [
    "import pandas as pd\n",
    "import re"
   ]
  },
  {
   "cell_type": "code",
   "execution_count": null,
   "metadata": {},
   "outputs": [],
   "source": [
    "# Loading dataset\n",
    "movies_df = pd.read_csv('cleaned-movies-2k.csv')\n",
    "\n",
    "# Taking only 'Top Cast' column in different dataframe\n",
    "top_cast_df = movies_df[['Top Cast']].copy()"
   ]
  },
  {
   "cell_type": "code",
   "execution_count": null,
   "metadata": {},
   "outputs": [],
   "source": [
    "# Function to keep only English names\n",
    "def eng_top_cast(cast) :\n",
    "    # Removes Hindi charac whose unicode is (u0900 to u097F)\n",
    "    only_eng_name = re.sub(r'[\\u0900-\\u097F]+', '', cast)\n",
    "    # Remove extra spaces that may result\n",
    "    # only_eng_name = re.sub(r\"\\s+\", \" \", only_eng_name)\n",
    "    # only_eng_name = only_eng_name.strip()            # No need for removing extra spaces , it seperates different characters/actors\n",
    "    # returning \n",
    "    return only_eng_name"
   ]
  },
  {
   "cell_type": "code",
   "execution_count": null,
   "metadata": {},
   "outputs": [],
   "source": [
    "# Applying function to 'Top Cast' column\n",
    "top_cast_df['Top Cast'] = top_cast_df['Top Cast'].apply(eng_top_cast)\n",
    "\n",
    "# Saving the new dataset to a CSV file\n",
    "top_cast_df.to_csv('cleaned_top_cast.csv', index=False)\n",
    "\n",
    "# Printing new dataset\n",
    "top_cast_df"
   ]
  },
  {
   "cell_type": "code",
   "execution_count": null,
   "metadata": {},
   "outputs": [],
   "source": [
    "# merging only eng names top_cast_df with the original dataframe\n",
    "\n",
    "df = df.drop(columns=['Top Cast'])\n",
    "df = pd.concat([df, top_cast_df], axis=1)\n",
    "df"
   ]
  },
  {
   "cell_type": "code",
   "execution_count": null,
   "metadata": {},
   "outputs": [],
   "source": [
    "# reordering the dataframe \n",
    "\n",
    "df = df.iloc[:, [0, 1, 2, 20, 19, 18, 17, 16, 15, 14, 13, 12, 11, 10, 9, 8, 7, 6, 5, 4, 3]]\n",
    "df "
   ]
  },
  {
   "cell_type": "code",
   "execution_count": null,
   "metadata": {},
   "outputs": [],
   "source": [
    "print('df shape:', df.shape)\n",
    "print('df columns:', df.columns)\n",
    "\n",
    "# Saving df in csv file \n",
    "\n",
    "df.to_csv(\"full-cleaned-movies-2k.csv\", index=False)"
   ]
  },
  {
   "cell_type": "code",
   "execution_count": null,
   "metadata": {},
   "outputs": [],
   "source": [
    "# Load your dataset\n",
    "df_top_cast = pd.read_csv(\"cleaned_top_cast-2k.csv\") \n",
    "\n",
    "# Extract only the 'Top Cast' column into a new DataFrame\n",
    "top_cast_df = df_top_cast[['Top Cast']].copy()"
   ]
  },
  {
   "cell_type": "code",
   "execution_count": null,
   "metadata": {},
   "outputs": [],
   "source": [
    "# Function to get up to 7 cast members separated by ';'\n",
    "def get_top_seven_cast(cast):\n",
    "    # split by multiple spaces\n",
    "    cast_list = re.split(r'\\s{2,}', cast)\n",
    "    cast = cast.strip()\n",
    "    # Take only the first 7 names\n",
    "    return \"; \".join(cast_list[:7])"
   ]
  },
  {
   "cell_type": "code",
   "execution_count": null,
   "metadata": {},
   "outputs": [],
   "source": [
    "# Apply the function to the 'Top Cast' column\n",
    "top_cast_df['Top 7 Cast'] = top_cast_df['Top Cast'].apply(get_top_seven_cast)\n",
    "\n",
    "# Save to a new dataset or view\n",
    "top_cast_df = top_cast_df[['Top 7 Cast']]\n",
    "print(top_cast_df)  # Display the first few rows\n",
    "top_cast_df.to_csv(\"top_seven_cast-2k.csv\", index=False) "
   ]
  },
  {
   "cell_type": "code",
   "execution_count": null,
   "metadata": {},
   "outputs": [],
   "source": [
    "df = df.drop(columns=['Top Cast'])\n",
    "df = pd.concat([df, top_cast_df], axis=1)\n",
    "df"
   ]
  },
  {
   "cell_type": "code",
   "execution_count": null,
   "metadata": {},
   "outputs": [],
   "source": [
    "df = df.iloc[:, [0, 1, 2, 20, 19, 18, 17, 16, 15, 14, 13, 12, 11, 10, 9, 8, 7, 6, 5, 4, 3]]\n",
    "df "
   ]
  },
  {
   "cell_type": "code",
   "execution_count": null,
   "metadata": {},
   "outputs": [],
   "source": [
    "print('df shape:', df.shape)\n",
    "print('df columns:', df.columns)\n",
    "\n",
    "# Saving df in csv file \n",
    "\n",
    "df.to_csv(\"full-cleaned-movies-7-top-cast-2k.csv\", index=False)"
   ]
  }
 ],
 "metadata": {
  "kernelspec": {
   "display_name": "base",
   "language": "python",
   "name": "python3"
  },
  "language_info": {
   "name": "python",
   "version": "3.11.5"
  }
 },
 "nbformat": 4,
 "nbformat_minor": 2
}
